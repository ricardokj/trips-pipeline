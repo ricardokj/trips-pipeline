{
 "cells": [
  {
   "cell_type": "code",
   "execution_count": 7,
   "id": "e7213852",
   "metadata": {},
   "outputs": [],
   "source": [
    "import pandas as pd\n",
    "from datetime import timedelta\n",
    "import random"
   ]
  },
  {
   "cell_type": "markdown",
   "id": "be2b8bb4",
   "metadata": {},
   "source": [
    "###  Read CSV to a pandas data frame and append itself 20 times (100 mi rows)"
   ]
  },
  {
   "cell_type": "code",
   "execution_count": 9,
   "id": "75bdd218",
   "metadata": {},
   "outputs": [
    {
     "name": "stdout",
     "output_type": "stream",
     "text": [
      "CPU times: user 11.6 s, sys: 9.8 s, total: 21.4 s\n",
      "Wall time: 21.5 s\n"
     ]
    },
    {
     "data": {
      "text/plain": [
       "104857600"
      ]
     },
     "execution_count": 9,
     "metadata": {},
     "output_type": "execute_result"
    }
   ],
   "source": [
    "%%time\n",
    "trip = pd.read_csv('files/trips.csv')\n",
    "trip['datetime'] = pd.to_datetime(trip.datetime)\n",
    "for i in range(20):\n",
    "    trip = trip.append(trip)\n",
    "    \n",
    "trip.reset_index(inplace=True)\n",
    "trip.shape[0]"
   ]
  },
  {
   "cell_type": "markdown",
   "id": "76c86fc7",
   "metadata": {},
   "source": [
    "### Splitting dataframe into x equal parts to create random timestamps for each x part"
   ]
  },
  {
   "cell_type": "code",
   "execution_count": 10,
   "id": "21781e63",
   "metadata": {},
   "outputs": [
    {
     "name": "stdout",
     "output_type": "stream",
     "text": [
      "CPU times: user 8.19 s, sys: 6.43 s, total: 14.6 s\n",
      "Wall time: 14.9 s\n"
     ]
    }
   ],
   "source": [
    "%%time\n",
    "parts = 20\n",
    "slice_size = int(trip.shape[0]/parts)\n",
    "for i in range(0,trip.shape[0],slice_size):\n",
    "    end = i + slice_size-1\n",
    "    trip.loc[i:end,'datetime'] = trip.loc[i:end].datetime + timedelta(days=random.randint(-365*4,365*2))"
   ]
  },
  {
   "cell_type": "markdown",
   "id": "b8a61688",
   "metadata": {},
   "source": [
    "### Amount of data by generated year"
   ]
  },
  {
   "cell_type": "code",
   "execution_count": 11,
   "id": "a090279f",
   "metadata": {},
   "outputs": [
    {
     "data": {
      "text/html": [
       "<div>\n",
       "<style scoped>\n",
       "    .dataframe tbody tr th:only-of-type {\n",
       "        vertical-align: middle;\n",
       "    }\n",
       "\n",
       "    .dataframe tbody tr th {\n",
       "        vertical-align: top;\n",
       "    }\n",
       "\n",
       "    .dataframe thead th {\n",
       "        text-align: right;\n",
       "    }\n",
       "</style>\n",
       "<table border=\"1\" class=\"dataframe\">\n",
       "  <thead>\n",
       "    <tr style=\"text-align: right;\">\n",
       "      <th></th>\n",
       "      <th>index</th>\n",
       "    </tr>\n",
       "    <tr>\n",
       "      <th>datetime</th>\n",
       "      <th></th>\n",
       "    </tr>\n",
       "  </thead>\n",
       "  <tbody>\n",
       "    <tr>\n",
       "      <th>2014</th>\n",
       "      <td>314467076</td>\n",
       "    </tr>\n",
       "    <tr>\n",
       "      <th>2015</th>\n",
       "      <td>1761713004</td>\n",
       "    </tr>\n",
       "    <tr>\n",
       "      <th>2016</th>\n",
       "      <td>778568480</td>\n",
       "    </tr>\n",
       "    <tr>\n",
       "      <th>2017</th>\n",
       "      <td>1038092240</td>\n",
       "    </tr>\n",
       "    <tr>\n",
       "      <th>2018</th>\n",
       "      <td>691901337</td>\n",
       "    </tr>\n",
       "    <tr>\n",
       "      <th>2019</th>\n",
       "      <td>605709063</td>\n",
       "    </tr>\n",
       "  </tbody>\n",
       "</table>\n",
       "</div>"
      ],
      "text/plain": [
       "               index\n",
       "datetime            \n",
       "2014       314467076\n",
       "2015      1761713004\n",
       "2016       778568480\n",
       "2017      1038092240\n",
       "2018       691901337\n",
       "2019       605709063"
      ]
     },
     "execution_count": 11,
     "metadata": {},
     "output_type": "execute_result"
    }
   ],
   "source": [
    "trip.groupby(trip.datetime.dt.year).sum()"
   ]
  },
  {
   "cell_type": "code",
   "execution_count": 12,
   "id": "98d2aa76",
   "metadata": {},
   "outputs": [
    {
     "name": "stdout",
     "output_type": "stream",
     "text": [
      "CPU times: user 10min 20s, sys: 27.9 s, total: 10min 48s\n",
      "Wall time: 10min 55s\n"
     ]
    }
   ],
   "source": [
    "%%time\n",
    "trip.drop('index',1,inplace=True)\n",
    "trip.to_csv('files/100mi.csv',index=False)"
   ]
  }
 ],
 "metadata": {
  "kernelspec": {
   "display_name": "Python 3 (ipykernel)",
   "language": "python",
   "name": "python3"
  },
  "language_info": {
   "codemirror_mode": {
    "name": "ipython",
    "version": 3
   },
   "file_extension": ".py",
   "mimetype": "text/x-python",
   "name": "python",
   "nbconvert_exporter": "python",
   "pygments_lexer": "ipython3",
   "version": "3.8.8"
  }
 },
 "nbformat": 4,
 "nbformat_minor": 5
}
